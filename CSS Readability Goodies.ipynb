{
 "cells": [
  {
   "cell_type": "markdown",
   "metadata": {},
   "source": [
    "# CSS readability goodies\n",
    "\n",
    "These are CSS styles that can be used in markdown cells to improve the readability of Jupyter notebooks. Adding them to your notebook is simple! Just copy the contents of the first \n",
    "\n",
    "    Copyright (C) 2016 Michael Burkhardt (https://github.com/mihobu)\n",
    "\n",
    "    This program is free software: you can redistribute it and/or modify\n",
    "    it under the terms of the GNU General Public License as published by\n",
    "    the Free Software Foundation, either version 3 of the License, or\n",
    "    (at your option) any later version.\n",
    "\n",
    "    This program is distributed in the hope that it will be useful,\n",
    "    but WITHOUT ANY WARRANTY; without even the implied warranty of\n",
    "    MERCHANTABILITY or FITNESS FOR A PARTICULAR PURPOSE.  See the\n",
    "    GNU General Public License for more details.\n",
    "\n",
    "    You should have received a copy of the GNU General Public License\n",
    "    along with this program.  If not, see <http://www.gnu.org/licenses/>.\n"
   ]
  },
  {
   "cell_type": "code",
   "execution_count": 4,
   "metadata": {
    "collapsed": false
   },
   "outputs": [
    {
     "data": {
      "text/html": [
       "<link href='https://fonts.googleapis.com/css?family=Passion+One' rel='stylesheet' type='text/css'><style>div.attn { font-family: 'Passion One'; font-size: 30px; line-height: 40px; color: #005AAA; text-align: center; margin: 30px 0; border-width: 10px 0; border-style: solid; border-color: #5AAAAA; padding: 30px 0; background-color: #DDDDFF; }hr { border: 0; background-color: #ffffff; border-top: 1px solid black; }hr.major { border-top: 10px solid #5AAA5A; }hr.minor { border: none; background-color: #ffffff; border-top: 5px dotted #CC3333; }div.bubble { width: 65%; padding: 20px; background: #DDDDDD; border-radius: 15px; margin: 0 auto; font-style: italic; color: #f00; }em { color: #999; }div.note{color:red;}</style>"
      ],
      "text/plain": [
       "<IPython.core.display.HTML object>"
      ]
     },
     "execution_count": 4,
     "metadata": {},
     "output_type": "execute_result"
    }
   ],
   "source": [
    "# -------------------------------------------------------------------------\n",
    "# Copy the contents of this cell into your Python notebook and then run\n",
    "# to enable the CSS styles. Hooray!\n",
    "# Copyright (c) 2016 Michael Burkhardt (https://github.com/mihobu)\n",
    "# -------------------------------------------------------------------------\n",
    "from IPython.core.display import HTML\n",
    "HTML(\"<link href='https://fonts.googleapis.com/css?family=Passion+One' rel='stylesheet' type='text/css'><style>div.attn { font-family: 'Passion One'; font-size: 30px; line-height: 40px; color: #005AAA; text-align: center; margin: 30px 0; border-width: 10px 0; border-style: solid; border-color: #5AAAAA; padding: 30px 0; background-color: #DDDDFF; }hr { border: 0; background-color: #ffffff; border-top: 1px solid black; }hr.major { border-top: 10px solid #5AAA5A; }hr.minor { border: none; background-color: #ffffff; border-top: 5px dotted #CC3333; }div.bubble { width: 65%; padding: 20px; background: #DDDDDD; border-radius: 15px; margin: 0 auto; font-style: italic; color: #f00; }em { color: #999; }div.note{color:red;}</style>\")\n"
   ]
  },
  {
   "cell_type": "markdown",
   "metadata": {},
   "source": [
    "## Attention\n",
    "    Usage: <div class=\"attn\">...</div>\n",
    "<div class=\"attn\">This style creates big, bold headings for major sections.</div>"
   ]
  },
  {
   "cell_type": "markdown",
   "metadata": {},
   "source": [
    "## Ordinary horizontal rule\n",
    "    Usage: <hr />\n",
    "An unadorned horizontal rule:\n",
    "<hr />"
   ]
  },
  {
   "cell_type": "markdown",
   "metadata": {},
   "source": [
    "## Major horizontal rule\n",
    "    Usage: <hr class=\"major\" />\n",
    "This is a \"major\" horizontal rule. Useful for drawing attention to section breaks.\n",
    "<hr class=\"major\" />"
   ]
  },
  {
   "cell_type": "markdown",
   "metadata": {},
   "source": [
    "## Minor horizontal rule\n",
    "    Usage: <hr class=\"minor\" />\n",
    "The following is a \"minor\" horizontal rule is useful for separting content withing a major section, such as code and graphics from explanations and notes.\n",
    "<hr class=\"minor\" />"
   ]
  },
  {
   "cell_type": "markdown",
   "metadata": {},
   "source": [
    "## Bubble\n",
    "    Usage: <div class=\"bubble\">...</div>\n",
    "\n",
    "<div class=\"bubble\">Bubbles (so named because they remind me of comic book speech bubbles) are useful for special callouts, such as problems, questions that require follow up, or cautionary statements.</div>"
   ]
  },
  {
   "cell_type": "markdown",
   "metadata": {},
   "source": [
    "## Emphasized text\n",
    "    Usage: _emphasized text_\n",
    "    \n",
    "           or\n",
    "           \n",
    "           <em>emphasized text</em>\n",
    "\n",
    "The `em` tag is how Jupyter notebooks markup text surrounded _by underscores_. Having emphasized type also in another color helps it to stand out even more.\n"
   ]
  },
  {
   "cell_type": "markdown",
   "metadata": {},
   "source": [
    "## Note\n",
    "    Usage: <div class=\"note\">...</div>\n",
    "\n",
    "<div class=\"note\">The `note` style is a slightly less fancy version of \"bubble\" (above), useful for calling attention to something - such as a reminder to follow up on an open issue.</div>"
   ]
  },
  {
   "cell_type": "code",
   "execution_count": null,
   "metadata": {
    "collapsed": true
   },
   "outputs": [],
   "source": []
  }
 ],
 "metadata": {
  "kernelspec": {
   "display_name": "Python 2",
   "language": "python",
   "name": "python2"
  },
  "language_info": {
   "codemirror_mode": {
    "name": "ipython",
    "version": 2
   },
   "file_extension": ".py",
   "mimetype": "text/x-python",
   "name": "python",
   "nbconvert_exporter": "python",
   "pygments_lexer": "ipython2",
   "version": "2.7.11+"
  }
 },
 "nbformat": 4,
 "nbformat_minor": 0
}
